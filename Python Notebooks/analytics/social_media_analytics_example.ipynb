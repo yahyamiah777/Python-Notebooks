{
  "nbformat": 4,
  "nbformat_minor": 0,
  "metadata": {
    "colab": {
      "provenance": []
    },
    "kernelspec": {
      "name": "python3",
      "display_name": "Python 3"
    },
    "language_info": {
      "name": "python"
    }
  },
  "cells": [
    {
      "cell_type": "code",
      "execution_count": null,
      "metadata": {
        "id": "VyBXNEZ0faTI"
      },
      "outputs": [],
      "source": [
        "pi = 3.14"
      ]
    },
    {
      "cell_type": "code",
      "source": [
        "r = 5"
      ],
      "metadata": {
        "id": "y5R_zDIBgyLQ"
      },
      "execution_count": null,
      "outputs": []
    },
    {
      "cell_type": "code",
      "source": [
        "pi * (r**2)"
      ],
      "metadata": {
        "id": "Px9ehN2FhSQb",
        "outputId": "f7296b9c-332c-47aa-fbc3-5885b1286410",
        "colab": {
          "base_uri": "https://localhost:8080/"
        }
      },
      "execution_count": null,
      "outputs": [
        {
          "output_type": "execute_result",
          "data": {
            "text/plain": [
              "78.5"
            ]
          },
          "metadata": {},
          "execution_count": 3
        }
      ]
    },
    {
      "cell_type": "code",
      "source": [
        "comment = \"This is a test\""
      ],
      "metadata": {
        "id": "SWiqQkhJ7-NY"
      },
      "execution_count": null,
      "outputs": []
    },
    {
      "cell_type": "code",
      "source": [
        "print(comment[0])"
      ],
      "metadata": {
        "colab": {
          "base_uri": "https://localhost:8080/"
        },
        "id": "Is_aRq9V8CFN",
        "outputId": "aa5ba6ad-49f7-47f5-f1be-ce102ec49694"
      },
      "execution_count": null,
      "outputs": [
        {
          "output_type": "stream",
          "name": "stdout",
          "text": [
            "T\n"
          ]
        }
      ]
    },
    {
      "cell_type": "code",
      "source": [
        "print(comment[:4])"
      ],
      "metadata": {
        "colab": {
          "base_uri": "https://localhost:8080/"
        },
        "id": "QhXcxHrl8oXn",
        "outputId": "1ccd828b-c38c-479b-e9f4-373046cb1471"
      },
      "execution_count": null,
      "outputs": [
        {
          "output_type": "stream",
          "name": "stdout",
          "text": [
            "This\n"
          ]
        }
      ]
    },
    {
      "cell_type": "code",
      "source": [
        "address_book = {}"
      ],
      "metadata": {
        "id": "B7Zh3Ilp8pay"
      },
      "execution_count": null,
      "outputs": []
    },
    {
      "cell_type": "code",
      "source": [
        "address_book = {\"person1\": \"address1\", \"person2\": \"address2\"}"
      ],
      "metadata": {
        "id": "XhKbkCRvCKUB"
      },
      "execution_count": null,
      "outputs": []
    },
    {
      "cell_type": "code",
      "source": [
        "print(address_book[\"person1\"])"
      ],
      "metadata": {
        "colab": {
          "base_uri": "https://localhost:8080/"
        },
        "id": "XcGiF0K1CUeg",
        "outputId": "be3fefcd-ab9e-4af4-fc4d-ee77536a7bd2"
      },
      "execution_count": null,
      "outputs": [
        {
          "output_type": "stream",
          "name": "stdout",
          "text": [
            "address1\n"
          ]
        }
      ]
    },
    {
      "cell_type": "code",
      "source": [
        "address_book[\"person3\"] = \"address3\""
      ],
      "metadata": {
        "id": "JU0lwMaQDF9k"
      },
      "execution_count": null,
      "outputs": []
    },
    {
      "cell_type": "code",
      "source": [
        "address_book.keys()"
      ],
      "metadata": {
        "colab": {
          "base_uri": "https://localhost:8080/"
        },
        "id": "x1PBKNIsDIo8",
        "outputId": "93f4d87b-f3b7-455e-e8e0-1e7d9ce6329b"
      },
      "execution_count": null,
      "outputs": [
        {
          "output_type": "execute_result",
          "data": {
            "text/plain": [
              "dict_keys(['person1', 'person2', 'person3'])"
            ]
          },
          "metadata": {},
          "execution_count": 12
        }
      ]
    },
    {
      "cell_type": "code",
      "source": [
        "full_name = \"John Doe\"\n",
        "\n",
        "data_type = type(full_name)\n",
        "print(\"Data type of the variable:\", data_type)\n",
        "\n",
        "print(\"Full name:\", full_name)\n",
        "\n",
        "# Printing only the first and last initials\n",
        "first_initial = full_name[0]\n",
        "space_index = full_name.index(' ')\n",
        "last_initial = full_name[space_index + 1]\n",
        "\n",
        "print(\"First and last initial:\", first_initial, last_initial)\n"
      ],
      "metadata": {
        "colab": {
          "base_uri": "https://localhost:8080/"
        },
        "id": "t_2YO8MvDMlx",
        "outputId": "eee77d5a-c542-4eba-c095-5b0d4750ae0d"
      },
      "execution_count": null,
      "outputs": [
        {
          "output_type": "stream",
          "name": "stdout",
          "text": [
            "Data type of the variable: <class 'str'>\n",
            "Full name: John Doe\n",
            "First and last initial: J D\n"
          ]
        }
      ]
    },
    {
      "cell_type": "code",
      "source": [
        "tweets = [\n",
        "    \"I love #coffee. Buy it #organic, grind your own beans, use unbleached filters. Coffee drinker or not?\",\n",
        "    \"Looking for a healthy, simple, and natural alternative for #coffee creamer? Compare to CoffeeMate\",\n",
        "    \"#Coffee & sun for a leisurely start today\",\n",
        "    \"Drink coffee: Do stupid things faster and with more energy\",\n",
        "    \"#Coffee Anyone? Our Coffee Corner knows just how to start your day!\"\n",
        "]\n",
        "\n",
        "for index, tweet in enumerate(tweets, start=1):\n",
        "    # Print the tweet\n",
        "    print(f\"Tweet {index}: {tweet}\")\n",
        "\n",
        "    # Calculate the length of the tweet\n",
        "    tweet_length = len(tweet)\n",
        "    print(f\"Length of the tweet: {tweet_length}\")\n",
        "\n",
        "    # Count the occurrences of \"coffee\" or \"#coffee\" in the tweet\n",
        "    coffee_count = tweet.lower().count(\"coffee\") + tweet.lower().count(\"#coffee\")\n",
        "    print(f\"Number of times 'coffee' or '#coffee' appears: {coffee_count}\")\n",
        "\n",
        "    print()  # Print an empty line for better readability\n"
      ],
      "metadata": {
        "colab": {
          "base_uri": "https://localhost:8080/"
        },
        "id": "iKYCMthjMbew",
        "outputId": "df964716-d0d4-40b6-9bee-9dbf440efa6e"
      },
      "execution_count": null,
      "outputs": [
        {
          "output_type": "stream",
          "name": "stdout",
          "text": [
            "Tweet 1: I love #coffee. Buy it #organic, grind your own beans, use unbleached filters. Coffee drinker or not?\n",
            "Length of the tweet: 101\n",
            "Number of times 'coffee' or '#coffee' appears: 3\n",
            "\n",
            "Tweet 2: Looking for a healthy, simple, and natural alternative for #coffee creamer? Compare to CoffeeMate\n",
            "Length of the tweet: 97\n",
            "Number of times 'coffee' or '#coffee' appears: 3\n",
            "\n",
            "Tweet 3: #Coffee & sun for a leisurely start today\n",
            "Length of the tweet: 41\n",
            "Number of times 'coffee' or '#coffee' appears: 2\n",
            "\n",
            "Tweet 4: Drink coffee: Do stupid things faster and with more energy\n",
            "Length of the tweet: 58\n",
            "Number of times 'coffee' or '#coffee' appears: 1\n",
            "\n",
            "Tweet 5: #Coffee Anyone? Our Coffee Corner knows just how to start your day!\n",
            "Length of the tweet: 67\n",
            "Number of times 'coffee' or '#coffee' appears: 3\n",
            "\n"
          ]
        }
      ]
    },
    {
      "cell_type": "code",
      "source": [
        "# Dictionary to store tweets posted by each user\n",
        "tweets_by_user = {\n",
        "    \"user1\": [\n",
        "        \"Tweet 1 by user1: This is my first tweet.\",\n",
        "        \"Tweet 2 by user1: Just another tweet from me.\",\n",
        "    ],\n",
        "    \"user2\": [\n",
        "        \"Tweet 1 by user2: Python programming is fun!\",\n",
        "        \"Tweet 2 by user2: Learning new things every day.\",\n",
        "    ],\n",
        "    # Add more users and their tweets as needed\n",
        "}\n",
        "\n",
        "# Function to calculate the total number of words in a tweet\n",
        "def count_words(tweet):\n",
        "    return len(tweet.split())\n",
        "\n",
        "# Iterate over each user and their tweets\n",
        "for username, tweets in tweets_by_user.items():\n",
        "    tweet_count = len(tweets)\n",
        "    total_words = sum(count_words(tweet) for tweet in tweets)\n",
        "\n",
        "    print(f\"User: {username}\")\n",
        "    print(f\"Tweet count: {tweet_count}\")\n",
        "    print(f\"Total number of words: {total_words}\")\n",
        "    print()\n"
      ],
      "metadata": {
        "id": "jqN9TgVpOHHp",
        "outputId": "f3b8a8e8-b0c4-46e0-afbf-419fc31e9cb4",
        "colab": {
          "base_uri": "https://localhost:8080/"
        }
      },
      "execution_count": null,
      "outputs": [
        {
          "output_type": "stream",
          "name": "stdout",
          "text": [
            "User: user1\n",
            "Tweet count: 2\n",
            "Total number of words: 18\n",
            "\n",
            "User: user2\n",
            "Tweet count: 2\n",
            "Total number of words: 17\n",
            "\n"
          ]
        }
      ]
    }
  ]
}