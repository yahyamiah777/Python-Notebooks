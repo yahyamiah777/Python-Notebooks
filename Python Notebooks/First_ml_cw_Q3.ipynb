{
  "cells": [
    {
      "cell_type": "code",
      "execution_count": null,
      "id": "388290b9",
      "metadata": {
        "id": "388290b9"
      },
      "outputs": [],
      "source": [
        "import numpy as np\n",
        "import pandas as pd\n",
        "import seaborn as sns\n",
        "import matplotlib.pyplot as plt"
      ]
    },
    {
      "cell_type": "code",
      "execution_count": null,
      "id": "d4812493",
      "metadata": {
        "id": "d4812493",
        "outputId": "f1467d15-78c5-4e7a-fe8d-5ef1d0258e1a"
      },
      "outputs": [
        {
          "data": {
            "text/plain": [
              "'C:\\\\Users\\\\Yahya'"
            ]
          },
          "execution_count": 2,
          "metadata": {},
          "output_type": "execute_result"
        }
      ],
      "source": [
        "pwd"
      ]
    },
    {
      "cell_type": "markdown",
      "id": "2196d131",
      "metadata": {
        "id": "2196d131"
      },
      "source": [
        "# i."
      ]
    },
    {
      "cell_type": "code",
      "execution_count": null,
      "id": "0b8f50cf",
      "metadata": {
        "id": "0b8f50cf"
      },
      "outputs": [],
      "source": [
        "df = pd.read_csv('Pistachio_16_Features_Dataset.xlsx - Pistachio_Dataset.csv')"
      ]
    },
    {
      "cell_type": "code",
      "execution_count": null,
      "id": "7abd20e6",
      "metadata": {
        "id": "7abd20e6",
        "outputId": "30443356-ab53-424a-d3f5-5fd973696392"
      },
      "outputs": [
        {
          "data": {
            "text/html": [
              "<div>\n",
              "<style scoped>\n",
              "    .dataframe tbody tr th:only-of-type {\n",
              "        vertical-align: middle;\n",
              "    }\n",
              "\n",
              "    .dataframe tbody tr th {\n",
              "        vertical-align: top;\n",
              "    }\n",
              "\n",
              "    .dataframe thead th {\n",
              "        text-align: right;\n",
              "    }\n",
              "</style>\n",
              "<table border=\"1\" class=\"dataframe\">\n",
              "  <thead>\n",
              "    <tr style=\"text-align: right;\">\n",
              "      <th></th>\n",
              "      <th>AREA</th>\n",
              "      <th>PERIMETER</th>\n",
              "      <th>MAJOR_AXIS</th>\n",
              "      <th>MINOR_AXIS</th>\n",
              "      <th>ECCENTRICITY</th>\n",
              "      <th>EQDIASQ</th>\n",
              "      <th>SOLIDITY</th>\n",
              "      <th>CONVEX_AREA</th>\n",
              "      <th>EXTENT</th>\n",
              "      <th>ASPECT_RATIO</th>\n",
              "      <th>ROUNDNESS</th>\n",
              "      <th>COMPACTNESS</th>\n",
              "      <th>SHAPEFACTOR_1</th>\n",
              "      <th>SHAPEFACTOR_2</th>\n",
              "      <th>SHAPEFACTOR_3</th>\n",
              "      <th>SHAPEFACTOR_4</th>\n",
              "      <th>Class</th>\n",
              "    </tr>\n",
              "  </thead>\n",
              "  <tbody>\n",
              "    <tr>\n",
              "      <th>0</th>\n",
              "      <td>63391</td>\n",
              "      <td>1568.4050</td>\n",
              "      <td>390.3396</td>\n",
              "      <td>236.7461</td>\n",
              "      <td>0.7951</td>\n",
              "      <td>284.0984</td>\n",
              "      <td>0.8665</td>\n",
              "      <td>73160</td>\n",
              "      <td>0.6394</td>\n",
              "      <td>1.6488</td>\n",
              "      <td>0.3238</td>\n",
              "      <td>0.7278</td>\n",
              "      <td>0.0062</td>\n",
              "      <td>0.0037</td>\n",
              "      <td>0.5297</td>\n",
              "      <td>0.8734</td>\n",
              "      <td>Kirmizi_Pistachio</td>\n",
              "    </tr>\n",
              "    <tr>\n",
              "      <th>1</th>\n",
              "      <td>68358</td>\n",
              "      <td>1942.1870</td>\n",
              "      <td>410.8594</td>\n",
              "      <td>234.7525</td>\n",
              "      <td>0.8207</td>\n",
              "      <td>295.0188</td>\n",
              "      <td>0.8765</td>\n",
              "      <td>77991</td>\n",
              "      <td>0.6772</td>\n",
              "      <td>1.7502</td>\n",
              "      <td>0.2277</td>\n",
              "      <td>0.7181</td>\n",
              "      <td>0.0060</td>\n",
              "      <td>0.0034</td>\n",
              "      <td>0.5156</td>\n",
              "      <td>0.9024</td>\n",
              "      <td>Kirmizi_Pistachio</td>\n",
              "    </tr>\n",
              "    <tr>\n",
              "      <th>2</th>\n",
              "      <td>73589</td>\n",
              "      <td>1246.5380</td>\n",
              "      <td>452.3630</td>\n",
              "      <td>220.5547</td>\n",
              "      <td>0.8731</td>\n",
              "      <td>306.0987</td>\n",
              "      <td>0.9172</td>\n",
              "      <td>80234</td>\n",
              "      <td>0.7127</td>\n",
              "      <td>2.0510</td>\n",
              "      <td>0.5951</td>\n",
              "      <td>0.6767</td>\n",
              "      <td>0.0061</td>\n",
              "      <td>0.0030</td>\n",
              "      <td>0.4579</td>\n",
              "      <td>0.9391</td>\n",
              "      <td>Kirmizi_Pistachio</td>\n",
              "    </tr>\n",
              "    <tr>\n",
              "      <th>3</th>\n",
              "      <td>71106</td>\n",
              "      <td>1445.2610</td>\n",
              "      <td>429.5291</td>\n",
              "      <td>216.0765</td>\n",
              "      <td>0.8643</td>\n",
              "      <td>300.8903</td>\n",
              "      <td>0.9589</td>\n",
              "      <td>74153</td>\n",
              "      <td>0.7028</td>\n",
              "      <td>1.9879</td>\n",
              "      <td>0.4278</td>\n",
              "      <td>0.7005</td>\n",
              "      <td>0.0060</td>\n",
              "      <td>0.0030</td>\n",
              "      <td>0.4907</td>\n",
              "      <td>0.9755</td>\n",
              "      <td>Kirmizi_Pistachio</td>\n",
              "    </tr>\n",
              "    <tr>\n",
              "      <th>4</th>\n",
              "      <td>80087</td>\n",
              "      <td>1251.5240</td>\n",
              "      <td>469.3783</td>\n",
              "      <td>220.9344</td>\n",
              "      <td>0.8823</td>\n",
              "      <td>319.3273</td>\n",
              "      <td>0.9657</td>\n",
              "      <td>82929</td>\n",
              "      <td>0.7459</td>\n",
              "      <td>2.1245</td>\n",
              "      <td>0.6425</td>\n",
              "      <td>0.6803</td>\n",
              "      <td>0.0059</td>\n",
              "      <td>0.0028</td>\n",
              "      <td>0.4628</td>\n",
              "      <td>0.9833</td>\n",
              "      <td>Kirmizi_Pistachio</td>\n",
              "    </tr>\n",
              "    <tr>\n",
              "      <th>...</th>\n",
              "      <td>...</td>\n",
              "      <td>...</td>\n",
              "      <td>...</td>\n",
              "      <td>...</td>\n",
              "      <td>...</td>\n",
              "      <td>...</td>\n",
              "      <td>...</td>\n",
              "      <td>...</td>\n",
              "      <td>...</td>\n",
              "      <td>...</td>\n",
              "      <td>...</td>\n",
              "      <td>...</td>\n",
              "      <td>...</td>\n",
              "      <td>...</td>\n",
              "      <td>...</td>\n",
              "      <td>...</td>\n",
              "      <td>...</td>\n",
              "    </tr>\n",
              "    <tr>\n",
              "      <th>2143</th>\n",
              "      <td>85983</td>\n",
              "      <td>1157.1160</td>\n",
              "      <td>444.3447</td>\n",
              "      <td>248.8627</td>\n",
              "      <td>0.8284</td>\n",
              "      <td>330.8730</td>\n",
              "      <td>0.9823</td>\n",
              "      <td>87536</td>\n",
              "      <td>0.6799</td>\n",
              "      <td>1.7855</td>\n",
              "      <td>0.8070</td>\n",
              "      <td>0.7446</td>\n",
              "      <td>0.0052</td>\n",
              "      <td>0.0029</td>\n",
              "      <td>0.5545</td>\n",
              "      <td>0.9900</td>\n",
              "      <td>Siit_Pistachio</td>\n",
              "    </tr>\n",
              "    <tr>\n",
              "      <th>2144</th>\n",
              "      <td>85691</td>\n",
              "      <td>2327.3459</td>\n",
              "      <td>439.8794</td>\n",
              "      <td>278.9297</td>\n",
              "      <td>0.7732</td>\n",
              "      <td>330.3107</td>\n",
              "      <td>0.8886</td>\n",
              "      <td>96439</td>\n",
              "      <td>0.6590</td>\n",
              "      <td>1.5770</td>\n",
              "      <td>0.1988</td>\n",
              "      <td>0.7509</td>\n",
              "      <td>0.0051</td>\n",
              "      <td>0.0033</td>\n",
              "      <td>0.5639</td>\n",
              "      <td>0.8892</td>\n",
              "      <td>Siit_Pistachio</td>\n",
              "    </tr>\n",
              "    <tr>\n",
              "      <th>2145</th>\n",
              "      <td>101136</td>\n",
              "      <td>1255.6190</td>\n",
              "      <td>475.2161</td>\n",
              "      <td>271.3299</td>\n",
              "      <td>0.8210</td>\n",
              "      <td>358.8459</td>\n",
              "      <td>0.9888</td>\n",
              "      <td>102286</td>\n",
              "      <td>0.7584</td>\n",
              "      <td>1.7514</td>\n",
              "      <td>0.8061</td>\n",
              "      <td>0.7551</td>\n",
              "      <td>0.0047</td>\n",
              "      <td>0.0027</td>\n",
              "      <td>0.5702</td>\n",
              "      <td>0.9987</td>\n",
              "      <td>Siit_Pistachio</td>\n",
              "    </tr>\n",
              "    <tr>\n",
              "      <th>2146</th>\n",
              "      <td>97409</td>\n",
              "      <td>1195.2150</td>\n",
              "      <td>452.1823</td>\n",
              "      <td>274.5764</td>\n",
              "      <td>0.7945</td>\n",
              "      <td>352.1718</td>\n",
              "      <td>0.9902</td>\n",
              "      <td>98376</td>\n",
              "      <td>0.7635</td>\n",
              "      <td>1.6468</td>\n",
              "      <td>0.8569</td>\n",
              "      <td>0.7788</td>\n",
              "      <td>0.0046</td>\n",
              "      <td>0.0028</td>\n",
              "      <td>0.6066</td>\n",
              "      <td>0.9989</td>\n",
              "      <td>Siit_Pistachio</td>\n",
              "    </tr>\n",
              "    <tr>\n",
              "      <th>2147</th>\n",
              "      <td>78466</td>\n",
              "      <td>2356.9080</td>\n",
              "      <td>445.9131</td>\n",
              "      <td>258.5125</td>\n",
              "      <td>0.8148</td>\n",
              "      <td>316.0791</td>\n",
              "      <td>0.8662</td>\n",
              "      <td>90591</td>\n",
              "      <td>0.6123</td>\n",
              "      <td>1.7249</td>\n",
              "      <td>0.1775</td>\n",
              "      <td>0.7088</td>\n",
              "      <td>0.0057</td>\n",
              "      <td>0.0033</td>\n",
              "      <td>0.5024</td>\n",
              "      <td>0.8667</td>\n",
              "      <td>Siit_Pistachio</td>\n",
              "    </tr>\n",
              "  </tbody>\n",
              "</table>\n",
              "<p>2148 rows × 17 columns</p>\n",
              "</div>"
            ],
            "text/plain": [
              "        AREA  PERIMETER  MAJOR_AXIS  MINOR_AXIS  ECCENTRICITY   EQDIASQ  \\\n",
              "0      63391  1568.4050    390.3396    236.7461        0.7951  284.0984   \n",
              "1      68358  1942.1870    410.8594    234.7525        0.8207  295.0188   \n",
              "2      73589  1246.5380    452.3630    220.5547        0.8731  306.0987   \n",
              "3      71106  1445.2610    429.5291    216.0765        0.8643  300.8903   \n",
              "4      80087  1251.5240    469.3783    220.9344        0.8823  319.3273   \n",
              "...      ...        ...         ...         ...           ...       ...   \n",
              "2143   85983  1157.1160    444.3447    248.8627        0.8284  330.8730   \n",
              "2144   85691  2327.3459    439.8794    278.9297        0.7732  330.3107   \n",
              "2145  101136  1255.6190    475.2161    271.3299        0.8210  358.8459   \n",
              "2146   97409  1195.2150    452.1823    274.5764        0.7945  352.1718   \n",
              "2147   78466  2356.9080    445.9131    258.5125        0.8148  316.0791   \n",
              "\n",
              "      SOLIDITY  CONVEX_AREA  EXTENT  ASPECT_RATIO  ROUNDNESS  COMPACTNESS  \\\n",
              "0       0.8665        73160  0.6394        1.6488     0.3238       0.7278   \n",
              "1       0.8765        77991  0.6772        1.7502     0.2277       0.7181   \n",
              "2       0.9172        80234  0.7127        2.0510     0.5951       0.6767   \n",
              "3       0.9589        74153  0.7028        1.9879     0.4278       0.7005   \n",
              "4       0.9657        82929  0.7459        2.1245     0.6425       0.6803   \n",
              "...        ...          ...     ...           ...        ...          ...   \n",
              "2143    0.9823        87536  0.6799        1.7855     0.8070       0.7446   \n",
              "2144    0.8886        96439  0.6590        1.5770     0.1988       0.7509   \n",
              "2145    0.9888       102286  0.7584        1.7514     0.8061       0.7551   \n",
              "2146    0.9902        98376  0.7635        1.6468     0.8569       0.7788   \n",
              "2147    0.8662        90591  0.6123        1.7249     0.1775       0.7088   \n",
              "\n",
              "      SHAPEFACTOR_1  SHAPEFACTOR_2  SHAPEFACTOR_3  SHAPEFACTOR_4  \\\n",
              "0            0.0062         0.0037         0.5297         0.8734   \n",
              "1            0.0060         0.0034         0.5156         0.9024   \n",
              "2            0.0061         0.0030         0.4579         0.9391   \n",
              "3            0.0060         0.0030         0.4907         0.9755   \n",
              "4            0.0059         0.0028         0.4628         0.9833   \n",
              "...             ...            ...            ...            ...   \n",
              "2143         0.0052         0.0029         0.5545         0.9900   \n",
              "2144         0.0051         0.0033         0.5639         0.8892   \n",
              "2145         0.0047         0.0027         0.5702         0.9987   \n",
              "2146         0.0046         0.0028         0.6066         0.9989   \n",
              "2147         0.0057         0.0033         0.5024         0.8667   \n",
              "\n",
              "                  Class  \n",
              "0     Kirmizi_Pistachio  \n",
              "1     Kirmizi_Pistachio  \n",
              "2     Kirmizi_Pistachio  \n",
              "3     Kirmizi_Pistachio  \n",
              "4     Kirmizi_Pistachio  \n",
              "...                 ...  \n",
              "2143     Siit_Pistachio  \n",
              "2144     Siit_Pistachio  \n",
              "2145     Siit_Pistachio  \n",
              "2146     Siit_Pistachio  \n",
              "2147     Siit_Pistachio  \n",
              "\n",
              "[2148 rows x 17 columns]"
            ]
          },
          "execution_count": 4,
          "metadata": {},
          "output_type": "execute_result"
        }
      ],
      "source": [
        "df"
      ]
    },
    {
      "cell_type": "code",
      "execution_count": null,
      "id": "e2158dac",
      "metadata": {
        "id": "e2158dac"
      },
      "outputs": [],
      "source": [
        "X = df.drop('Class', axis=1) #measurement as df"
      ]
    },
    {
      "cell_type": "code",
      "execution_count": null,
      "id": "a811e1a8",
      "metadata": {
        "id": "a811e1a8"
      },
      "outputs": [],
      "source": [
        "y = df['Class'] #Pistachio type as values"
      ]
    },
    {
      "cell_type": "code",
      "execution_count": null,
      "id": "265774b9",
      "metadata": {
        "id": "265774b9",
        "outputId": "92ac88bf-ef8e-4eaa-c4e7-8b0d76adf7de"
      },
      "outputs": [
        {
          "data": {
            "text/html": [
              "<div>\n",
              "<style scoped>\n",
              "    .dataframe tbody tr th:only-of-type {\n",
              "        vertical-align: middle;\n",
              "    }\n",
              "\n",
              "    .dataframe tbody tr th {\n",
              "        vertical-align: top;\n",
              "    }\n",
              "\n",
              "    .dataframe thead th {\n",
              "        text-align: right;\n",
              "    }\n",
              "</style>\n",
              "<table border=\"1\" class=\"dataframe\">\n",
              "  <thead>\n",
              "    <tr style=\"text-align: right;\">\n",
              "      <th></th>\n",
              "      <th>AREA</th>\n",
              "      <th>PERIMETER</th>\n",
              "      <th>MAJOR_AXIS</th>\n",
              "      <th>MINOR_AXIS</th>\n",
              "      <th>ECCENTRICITY</th>\n",
              "      <th>EQDIASQ</th>\n",
              "      <th>SOLIDITY</th>\n",
              "      <th>CONVEX_AREA</th>\n",
              "      <th>EXTENT</th>\n",
              "      <th>ASPECT_RATIO</th>\n",
              "      <th>ROUNDNESS</th>\n",
              "      <th>COMPACTNESS</th>\n",
              "      <th>SHAPEFACTOR_1</th>\n",
              "      <th>SHAPEFACTOR_2</th>\n",
              "      <th>SHAPEFACTOR_3</th>\n",
              "      <th>SHAPEFACTOR_4</th>\n",
              "    </tr>\n",
              "  </thead>\n",
              "  <tbody>\n",
              "    <tr>\n",
              "      <th>0</th>\n",
              "      <td>63391</td>\n",
              "      <td>1568.4050</td>\n",
              "      <td>390.3396</td>\n",
              "      <td>236.7461</td>\n",
              "      <td>0.7951</td>\n",
              "      <td>284.0984</td>\n",
              "      <td>0.8665</td>\n",
              "      <td>73160</td>\n",
              "      <td>0.6394</td>\n",
              "      <td>1.6488</td>\n",
              "      <td>0.3238</td>\n",
              "      <td>0.7278</td>\n",
              "      <td>0.0062</td>\n",
              "      <td>0.0037</td>\n",
              "      <td>0.5297</td>\n",
              "      <td>0.8734</td>\n",
              "    </tr>\n",
              "    <tr>\n",
              "      <th>1</th>\n",
              "      <td>68358</td>\n",
              "      <td>1942.1870</td>\n",
              "      <td>410.8594</td>\n",
              "      <td>234.7525</td>\n",
              "      <td>0.8207</td>\n",
              "      <td>295.0188</td>\n",
              "      <td>0.8765</td>\n",
              "      <td>77991</td>\n",
              "      <td>0.6772</td>\n",
              "      <td>1.7502</td>\n",
              "      <td>0.2277</td>\n",
              "      <td>0.7181</td>\n",
              "      <td>0.0060</td>\n",
              "      <td>0.0034</td>\n",
              "      <td>0.5156</td>\n",
              "      <td>0.9024</td>\n",
              "    </tr>\n",
              "    <tr>\n",
              "      <th>2</th>\n",
              "      <td>73589</td>\n",
              "      <td>1246.5380</td>\n",
              "      <td>452.3630</td>\n",
              "      <td>220.5547</td>\n",
              "      <td>0.8731</td>\n",
              "      <td>306.0987</td>\n",
              "      <td>0.9172</td>\n",
              "      <td>80234</td>\n",
              "      <td>0.7127</td>\n",
              "      <td>2.0510</td>\n",
              "      <td>0.5951</td>\n",
              "      <td>0.6767</td>\n",
              "      <td>0.0061</td>\n",
              "      <td>0.0030</td>\n",
              "      <td>0.4579</td>\n",
              "      <td>0.9391</td>\n",
              "    </tr>\n",
              "    <tr>\n",
              "      <th>3</th>\n",
              "      <td>71106</td>\n",
              "      <td>1445.2610</td>\n",
              "      <td>429.5291</td>\n",
              "      <td>216.0765</td>\n",
              "      <td>0.8643</td>\n",
              "      <td>300.8903</td>\n",
              "      <td>0.9589</td>\n",
              "      <td>74153</td>\n",
              "      <td>0.7028</td>\n",
              "      <td>1.9879</td>\n",
              "      <td>0.4278</td>\n",
              "      <td>0.7005</td>\n",
              "      <td>0.0060</td>\n",
              "      <td>0.0030</td>\n",
              "      <td>0.4907</td>\n",
              "      <td>0.9755</td>\n",
              "    </tr>\n",
              "    <tr>\n",
              "      <th>4</th>\n",
              "      <td>80087</td>\n",
              "      <td>1251.5240</td>\n",
              "      <td>469.3783</td>\n",
              "      <td>220.9344</td>\n",
              "      <td>0.8823</td>\n",
              "      <td>319.3273</td>\n",
              "      <td>0.9657</td>\n",
              "      <td>82929</td>\n",
              "      <td>0.7459</td>\n",
              "      <td>2.1245</td>\n",
              "      <td>0.6425</td>\n",
              "      <td>0.6803</td>\n",
              "      <td>0.0059</td>\n",
              "      <td>0.0028</td>\n",
              "      <td>0.4628</td>\n",
              "      <td>0.9833</td>\n",
              "    </tr>\n",
              "    <tr>\n",
              "      <th>...</th>\n",
              "      <td>...</td>\n",
              "      <td>...</td>\n",
              "      <td>...</td>\n",
              "      <td>...</td>\n",
              "      <td>...</td>\n",
              "      <td>...</td>\n",
              "      <td>...</td>\n",
              "      <td>...</td>\n",
              "      <td>...</td>\n",
              "      <td>...</td>\n",
              "      <td>...</td>\n",
              "      <td>...</td>\n",
              "      <td>...</td>\n",
              "      <td>...</td>\n",
              "      <td>...</td>\n",
              "      <td>...</td>\n",
              "    </tr>\n",
              "    <tr>\n",
              "      <th>2143</th>\n",
              "      <td>85983</td>\n",
              "      <td>1157.1160</td>\n",
              "      <td>444.3447</td>\n",
              "      <td>248.8627</td>\n",
              "      <td>0.8284</td>\n",
              "      <td>330.8730</td>\n",
              "      <td>0.9823</td>\n",
              "      <td>87536</td>\n",
              "      <td>0.6799</td>\n",
              "      <td>1.7855</td>\n",
              "      <td>0.8070</td>\n",
              "      <td>0.7446</td>\n",
              "      <td>0.0052</td>\n",
              "      <td>0.0029</td>\n",
              "      <td>0.5545</td>\n",
              "      <td>0.9900</td>\n",
              "    </tr>\n",
              "    <tr>\n",
              "      <th>2144</th>\n",
              "      <td>85691</td>\n",
              "      <td>2327.3459</td>\n",
              "      <td>439.8794</td>\n",
              "      <td>278.9297</td>\n",
              "      <td>0.7732</td>\n",
              "      <td>330.3107</td>\n",
              "      <td>0.8886</td>\n",
              "      <td>96439</td>\n",
              "      <td>0.6590</td>\n",
              "      <td>1.5770</td>\n",
              "      <td>0.1988</td>\n",
              "      <td>0.7509</td>\n",
              "      <td>0.0051</td>\n",
              "      <td>0.0033</td>\n",
              "      <td>0.5639</td>\n",
              "      <td>0.8892</td>\n",
              "    </tr>\n",
              "    <tr>\n",
              "      <th>2145</th>\n",
              "      <td>101136</td>\n",
              "      <td>1255.6190</td>\n",
              "      <td>475.2161</td>\n",
              "      <td>271.3299</td>\n",
              "      <td>0.8210</td>\n",
              "      <td>358.8459</td>\n",
              "      <td>0.9888</td>\n",
              "      <td>102286</td>\n",
              "      <td>0.7584</td>\n",
              "      <td>1.7514</td>\n",
              "      <td>0.8061</td>\n",
              "      <td>0.7551</td>\n",
              "      <td>0.0047</td>\n",
              "      <td>0.0027</td>\n",
              "      <td>0.5702</td>\n",
              "      <td>0.9987</td>\n",
              "    </tr>\n",
              "    <tr>\n",
              "      <th>2146</th>\n",
              "      <td>97409</td>\n",
              "      <td>1195.2150</td>\n",
              "      <td>452.1823</td>\n",
              "      <td>274.5764</td>\n",
              "      <td>0.7945</td>\n",
              "      <td>352.1718</td>\n",
              "      <td>0.9902</td>\n",
              "      <td>98376</td>\n",
              "      <td>0.7635</td>\n",
              "      <td>1.6468</td>\n",
              "      <td>0.8569</td>\n",
              "      <td>0.7788</td>\n",
              "      <td>0.0046</td>\n",
              "      <td>0.0028</td>\n",
              "      <td>0.6066</td>\n",
              "      <td>0.9989</td>\n",
              "    </tr>\n",
              "    <tr>\n",
              "      <th>2147</th>\n",
              "      <td>78466</td>\n",
              "      <td>2356.9080</td>\n",
              "      <td>445.9131</td>\n",
              "      <td>258.5125</td>\n",
              "      <td>0.8148</td>\n",
              "      <td>316.0791</td>\n",
              "      <td>0.8662</td>\n",
              "      <td>90591</td>\n",
              "      <td>0.6123</td>\n",
              "      <td>1.7249</td>\n",
              "      <td>0.1775</td>\n",
              "      <td>0.7088</td>\n",
              "      <td>0.0057</td>\n",
              "      <td>0.0033</td>\n",
              "      <td>0.5024</td>\n",
              "      <td>0.8667</td>\n",
              "    </tr>\n",
              "  </tbody>\n",
              "</table>\n",
              "<p>2148 rows × 16 columns</p>\n",
              "</div>"
            ],
            "text/plain": [
              "        AREA  PERIMETER  MAJOR_AXIS  MINOR_AXIS  ECCENTRICITY   EQDIASQ  \\\n",
              "0      63391  1568.4050    390.3396    236.7461        0.7951  284.0984   \n",
              "1      68358  1942.1870    410.8594    234.7525        0.8207  295.0188   \n",
              "2      73589  1246.5380    452.3630    220.5547        0.8731  306.0987   \n",
              "3      71106  1445.2610    429.5291    216.0765        0.8643  300.8903   \n",
              "4      80087  1251.5240    469.3783    220.9344        0.8823  319.3273   \n",
              "...      ...        ...         ...         ...           ...       ...   \n",
              "2143   85983  1157.1160    444.3447    248.8627        0.8284  330.8730   \n",
              "2144   85691  2327.3459    439.8794    278.9297        0.7732  330.3107   \n",
              "2145  101136  1255.6190    475.2161    271.3299        0.8210  358.8459   \n",
              "2146   97409  1195.2150    452.1823    274.5764        0.7945  352.1718   \n",
              "2147   78466  2356.9080    445.9131    258.5125        0.8148  316.0791   \n",
              "\n",
              "      SOLIDITY  CONVEX_AREA  EXTENT  ASPECT_RATIO  ROUNDNESS  COMPACTNESS  \\\n",
              "0       0.8665        73160  0.6394        1.6488     0.3238       0.7278   \n",
              "1       0.8765        77991  0.6772        1.7502     0.2277       0.7181   \n",
              "2       0.9172        80234  0.7127        2.0510     0.5951       0.6767   \n",
              "3       0.9589        74153  0.7028        1.9879     0.4278       0.7005   \n",
              "4       0.9657        82929  0.7459        2.1245     0.6425       0.6803   \n",
              "...        ...          ...     ...           ...        ...          ...   \n",
              "2143    0.9823        87536  0.6799        1.7855     0.8070       0.7446   \n",
              "2144    0.8886        96439  0.6590        1.5770     0.1988       0.7509   \n",
              "2145    0.9888       102286  0.7584        1.7514     0.8061       0.7551   \n",
              "2146    0.9902        98376  0.7635        1.6468     0.8569       0.7788   \n",
              "2147    0.8662        90591  0.6123        1.7249     0.1775       0.7088   \n",
              "\n",
              "      SHAPEFACTOR_1  SHAPEFACTOR_2  SHAPEFACTOR_3  SHAPEFACTOR_4  \n",
              "0            0.0062         0.0037         0.5297         0.8734  \n",
              "1            0.0060         0.0034         0.5156         0.9024  \n",
              "2            0.0061         0.0030         0.4579         0.9391  \n",
              "3            0.0060         0.0030         0.4907         0.9755  \n",
              "4            0.0059         0.0028         0.4628         0.9833  \n",
              "...             ...            ...            ...            ...  \n",
              "2143         0.0052         0.0029         0.5545         0.9900  \n",
              "2144         0.0051         0.0033         0.5639         0.8892  \n",
              "2145         0.0047         0.0027         0.5702         0.9987  \n",
              "2146         0.0046         0.0028         0.6066         0.9989  \n",
              "2147         0.0057         0.0033         0.5024         0.8667  \n",
              "\n",
              "[2148 rows x 16 columns]"
            ]
          },
          "execution_count": 7,
          "metadata": {},
          "output_type": "execute_result"
        }
      ],
      "source": [
        "X\n"
      ]
    },
    {
      "cell_type": "code",
      "execution_count": null,
      "id": "4c316dc2",
      "metadata": {
        "id": "4c316dc2",
        "outputId": "c4b1a765-28be-4899-c2d0-b1ccd0cb59d6"
      },
      "outputs": [
        {
          "data": {
            "text/plain": [
              "0       Kirmizi_Pistachio\n",
              "1       Kirmizi_Pistachio\n",
              "2       Kirmizi_Pistachio\n",
              "3       Kirmizi_Pistachio\n",
              "4       Kirmizi_Pistachio\n",
              "              ...        \n",
              "2143       Siit_Pistachio\n",
              "2144       Siit_Pistachio\n",
              "2145       Siit_Pistachio\n",
              "2146       Siit_Pistachio\n",
              "2147       Siit_Pistachio\n",
              "Name: Class, Length: 2148, dtype: object"
            ]
          },
          "execution_count": 8,
          "metadata": {},
          "output_type": "execute_result"
        }
      ],
      "source": [
        "y\n",
        "\n",
        "#in this model Kirmizi_Pistachio is 0 or a negative\n",
        "#and Siit_Pistachio is 1 or a positive"
      ]
    },
    {
      "cell_type": "code",
      "execution_count": null,
      "id": "adf38913",
      "metadata": {
        "id": "adf38913"
      },
      "outputs": [],
      "source": [
        "from sklearn.model_selection import train_test_split\n",
        "from sklearn.preprocessing import StandardScaler"
      ]
    },
    {
      "cell_type": "code",
      "execution_count": null,
      "id": "8f86deb6",
      "metadata": {
        "id": "8f86deb6"
      },
      "outputs": [],
      "source": [
        "X_train, X_test, y_train, y_test = train_test_split(X, y, test_size=0.1, random_state=101)"
      ]
    },
    {
      "cell_type": "code",
      "execution_count": null,
      "id": "993ea131",
      "metadata": {
        "id": "993ea131"
      },
      "outputs": [],
      "source": [
        "# scaler is used to scale features so that they have a similiar scale\n",
        "# which improves the accuracy of the model\n",
        "scaler = StandardScaler()\n",
        "scaled_X_train = scaler.fit_transform(X_train)\n",
        "#^this computes the mean and standard deviation of each feature in the training data to then\n",
        "#scale the whole training set based on those results.\n",
        "\n",
        "scaled_X_test = scaler.transform(X_test)\n",
        "#transform() uses the previous transformation on the test data so the scaling used is the same\n",
        "#to avoid high bias, which is the difference between expection and the true value"
      ]
    },
    {
      "cell_type": "code",
      "execution_count": null,
      "id": "a0ce9760",
      "metadata": {
        "id": "a0ce9760",
        "outputId": "8d98c9c8-c95f-452c-a665-2322d93f3fb6"
      },
      "outputs": [
        {
          "data": {
            "text/html": [
              "<div>\n",
              "<style scoped>\n",
              "    .dataframe tbody tr th:only-of-type {\n",
              "        vertical-align: middle;\n",
              "    }\n",
              "\n",
              "    .dataframe tbody tr th {\n",
              "        vertical-align: top;\n",
              "    }\n",
              "\n",
              "    .dataframe thead th {\n",
              "        text-align: right;\n",
              "    }\n",
              "</style>\n",
              "<table border=\"1\" class=\"dataframe\">\n",
              "  <thead>\n",
              "    <tr style=\"text-align: right;\">\n",
              "      <th></th>\n",
              "      <th>0</th>\n",
              "      <th>1</th>\n",
              "      <th>2</th>\n",
              "      <th>3</th>\n",
              "      <th>4</th>\n",
              "      <th>5</th>\n",
              "      <th>6</th>\n",
              "      <th>7</th>\n",
              "      <th>8</th>\n",
              "      <th>9</th>\n",
              "      <th>10</th>\n",
              "      <th>11</th>\n",
              "      <th>12</th>\n",
              "      <th>13</th>\n",
              "      <th>14</th>\n",
              "      <th>15</th>\n",
              "    </tr>\n",
              "  </thead>\n",
              "  <tbody>\n",
              "    <tr>\n",
              "      <th>count</th>\n",
              "      <td>1.933000e+03</td>\n",
              "      <td>1.933000e+03</td>\n",
              "      <td>1.933000e+03</td>\n",
              "      <td>1.933000e+03</td>\n",
              "      <td>1.933000e+03</td>\n",
              "      <td>1.933000e+03</td>\n",
              "      <td>1.933000e+03</td>\n",
              "      <td>1.933000e+03</td>\n",
              "      <td>1.933000e+03</td>\n",
              "      <td>1.933000e+03</td>\n",
              "      <td>1.933000e+03</td>\n",
              "      <td>1.933000e+03</td>\n",
              "      <td>1.933000e+03</td>\n",
              "      <td>1.933000e+03</td>\n",
              "      <td>1.933000e+03</td>\n",
              "      <td>1.933000e+03</td>\n",
              "    </tr>\n",
              "    <tr>\n",
              "      <th>mean</th>\n",
              "      <td>3.546626e-16</td>\n",
              "      <td>2.521407e-17</td>\n",
              "      <td>-1.625532e-15</td>\n",
              "      <td>4.990260e-16</td>\n",
              "      <td>2.237102e-17</td>\n",
              "      <td>9.409040e-16</td>\n",
              "      <td>-2.042311e-15</td>\n",
              "      <td>1.895937e-16</td>\n",
              "      <td>-4.850118e-16</td>\n",
              "      <td>-2.871762e-19</td>\n",
              "      <td>-6.327065e-16</td>\n",
              "      <td>-3.558687e-16</td>\n",
              "      <td>-3.048949e-16</td>\n",
              "      <td>-3.145512e-16</td>\n",
              "      <td>-1.827589e-16</td>\n",
              "      <td>-1.400260e-15</td>\n",
              "    </tr>\n",
              "    <tr>\n",
              "      <th>std</th>\n",
              "      <td>1.000259e+00</td>\n",
              "      <td>1.000259e+00</td>\n",
              "      <td>1.000259e+00</td>\n",
              "      <td>1.000259e+00</td>\n",
              "      <td>1.000259e+00</td>\n",
              "      <td>1.000259e+00</td>\n",
              "      <td>1.000259e+00</td>\n",
              "      <td>1.000259e+00</td>\n",
              "      <td>1.000259e+00</td>\n",
              "      <td>1.000259e+00</td>\n",
              "      <td>1.000259e+00</td>\n",
              "      <td>1.000259e+00</td>\n",
              "      <td>1.000259e+00</td>\n",
              "      <td>1.000259e+00</td>\n",
              "      <td>1.000259e+00</td>\n",
              "      <td>1.000259e+00</td>\n",
              "    </tr>\n",
              "    <tr>\n",
              "      <th>min</th>\n",
              "      <td>-3.819301e+00</td>\n",
              "      <td>-1.517355e+00</td>\n",
              "      <td>-3.831543e+00</td>\n",
              "      <td>-3.474621e+00</td>\n",
              "      <td>-6.812780e+00</td>\n",
              "      <td>-4.574339e+00</td>\n",
              "      <td>-6.969705e+00</td>\n",
              "      <td>-3.586911e+00</td>\n",
              "      <td>-5.495581e+00</td>\n",
              "      <td>-3.082150e+00</td>\n",
              "      <td>-2.392649e+00</td>\n",
              "      <td>-5.309530e+00</td>\n",
              "      <td>-2.086364e+00</td>\n",
              "      <td>-1.795372e+00</td>\n",
              "      <td>-4.426039e+00</td>\n",
              "      <td>-6.446211e+00</td>\n",
              "    </tr>\n",
              "    <tr>\n",
              "      <th>25%</th>\n",
              "      <td>-6.144727e-01</td>\n",
              "      <td>-6.796451e-01</td>\n",
              "      <td>-5.989935e-01</td>\n",
              "      <td>-6.775818e-01</td>\n",
              "      <td>-4.566512e-01</td>\n",
              "      <td>-5.718563e-01</td>\n",
              "      <td>-3.957434e-01</td>\n",
              "      <td>-6.518677e-01</td>\n",
              "      <td>-5.620235e-01</td>\n",
              "      <td>-6.708832e-01</td>\n",
              "      <td>-9.249470e-01</td>\n",
              "      <td>-7.058015e-01</td>\n",
              "      <td>-6.139502e-01</td>\n",
              "      <td>-6.350731e-01</td>\n",
              "      <td>-7.157206e-01</td>\n",
              "      <td>-2.156056e-01</td>\n",
              "    </tr>\n",
              "    <tr>\n",
              "      <th>50%</th>\n",
              "      <td>-8.955210e-03</td>\n",
              "      <td>-4.266083e-01</td>\n",
              "      <td>7.454842e-02</td>\n",
              "      <td>-6.560956e-02</td>\n",
              "      <td>1.879082e-01</td>\n",
              "      <td>3.351259e-02</td>\n",
              "      <td>2.790672e-01</td>\n",
              "      <td>-2.229534e-03</td>\n",
              "      <td>1.974246e-01</td>\n",
              "      <td>-1.485853e-02</td>\n",
              "      <td>3.460239e-01</td>\n",
              "      <td>-5.036297e-02</td>\n",
              "      <td>-1.231455e-01</td>\n",
              "      <td>-5.492362e-02</td>\n",
              "      <td>-8.046674e-02</td>\n",
              "      <td>3.443408e-01</td>\n",
              "    </tr>\n",
              "    <tr>\n",
              "      <th>75%</th>\n",
              "      <td>6.886515e-01</td>\n",
              "      <td>4.742713e-01</td>\n",
              "      <td>6.773084e-01</td>\n",
              "      <td>6.455915e-01</td>\n",
              "      <td>7.145356e-01</td>\n",
              "      <td>6.946901e-01</td>\n",
              "      <td>7.243234e-01</td>\n",
              "      <td>6.746422e-01</td>\n",
              "      <td>7.189503e-01</td>\n",
              "      <td>7.079371e-01</td>\n",
              "      <td>8.201612e-01</td>\n",
              "      <td>6.363934e-01</td>\n",
              "      <td>4.903603e-01</td>\n",
              "      <td>5.252258e-01</td>\n",
              "      <td>6.139529e-01</td>\n",
              "      <td>6.137307e-01</td>\n",
              "    </tr>\n",
              "    <tr>\n",
              "      <th>max</th>\n",
              "      <td>3.361832e+00</td>\n",
              "      <td>3.574809e+00</td>\n",
              "      <td>2.926521e+00</td>\n",
              "      <td>4.801460e+00</td>\n",
              "      <td>2.143953e+00</td>\n",
              "      <td>2.956853e+00</td>\n",
              "      <td>1.086465e+00</td>\n",
              "      <td>3.625247e+00</td>\n",
              "      <td>1.988504e+00</td>\n",
              "      <td>4.891972e+00</td>\n",
              "      <td>1.715597e+00</td>\n",
              "      <td>3.680939e+00</td>\n",
              "      <td>9.079442e+00</td>\n",
              "      <td>6.616795e+00</td>\n",
              "      <td>4.044012e+00</td>\n",
              "      <td>8.388638e-01</td>\n",
              "    </tr>\n",
              "  </tbody>\n",
              "</table>\n",
              "</div>"
            ],
            "text/plain": [
              "                 0             1             2             3             4   \\\n",
              "count  1.933000e+03  1.933000e+03  1.933000e+03  1.933000e+03  1.933000e+03   \n",
              "mean   3.546626e-16  2.521407e-17 -1.625532e-15  4.990260e-16  2.237102e-17   \n",
              "std    1.000259e+00  1.000259e+00  1.000259e+00  1.000259e+00  1.000259e+00   \n",
              "min   -3.819301e+00 -1.517355e+00 -3.831543e+00 -3.474621e+00 -6.812780e+00   \n",
              "25%   -6.144727e-01 -6.796451e-01 -5.989935e-01 -6.775818e-01 -4.566512e-01   \n",
              "50%   -8.955210e-03 -4.266083e-01  7.454842e-02 -6.560956e-02  1.879082e-01   \n",
              "75%    6.886515e-01  4.742713e-01  6.773084e-01  6.455915e-01  7.145356e-01   \n",
              "max    3.361832e+00  3.574809e+00  2.926521e+00  4.801460e+00  2.143953e+00   \n",
              "\n",
              "                 5             6             7             8             9   \\\n",
              "count  1.933000e+03  1.933000e+03  1.933000e+03  1.933000e+03  1.933000e+03   \n",
              "mean   9.409040e-16 -2.042311e-15  1.895937e-16 -4.850118e-16 -2.871762e-19   \n",
              "std    1.000259e+00  1.000259e+00  1.000259e+00  1.000259e+00  1.000259e+00   \n",
              "min   -4.574339e+00 -6.969705e+00 -3.586911e+00 -5.495581e+00 -3.082150e+00   \n",
              "25%   -5.718563e-01 -3.957434e-01 -6.518677e-01 -5.620235e-01 -6.708832e-01   \n",
              "50%    3.351259e-02  2.790672e-01 -2.229534e-03  1.974246e-01 -1.485853e-02   \n",
              "75%    6.946901e-01  7.243234e-01  6.746422e-01  7.189503e-01  7.079371e-01   \n",
              "max    2.956853e+00  1.086465e+00  3.625247e+00  1.988504e+00  4.891972e+00   \n",
              "\n",
              "                 10            11            12            13            14  \\\n",
              "count  1.933000e+03  1.933000e+03  1.933000e+03  1.933000e+03  1.933000e+03   \n",
              "mean  -6.327065e-16 -3.558687e-16 -3.048949e-16 -3.145512e-16 -1.827589e-16   \n",
              "std    1.000259e+00  1.000259e+00  1.000259e+00  1.000259e+00  1.000259e+00   \n",
              "min   -2.392649e+00 -5.309530e+00 -2.086364e+00 -1.795372e+00 -4.426039e+00   \n",
              "25%   -9.249470e-01 -7.058015e-01 -6.139502e-01 -6.350731e-01 -7.157206e-01   \n",
              "50%    3.460239e-01 -5.036297e-02 -1.231455e-01 -5.492362e-02 -8.046674e-02   \n",
              "75%    8.201612e-01  6.363934e-01  4.903603e-01  5.252258e-01  6.139529e-01   \n",
              "max    1.715597e+00  3.680939e+00  9.079442e+00  6.616795e+00  4.044012e+00   \n",
              "\n",
              "                 15  \n",
              "count  1.933000e+03  \n",
              "mean  -1.400260e-15  \n",
              "std    1.000259e+00  \n",
              "min   -6.446211e+00  \n",
              "25%   -2.156056e-01  \n",
              "50%    3.443408e-01  \n",
              "75%    6.137307e-01  \n",
              "max    8.388638e-01  "
            ]
          },
          "execution_count": 12,
          "metadata": {},
          "output_type": "execute_result"
        }
      ],
      "source": [
        "df_describe = pd.DataFrame(scaled_X_train)\n",
        "df_describe.describe()"
      ]
    },
    {
      "cell_type": "code",
      "execution_count": null,
      "id": "337fd328",
      "metadata": {
        "id": "337fd328"
      },
      "outputs": [],
      "source": [
        "from sklearn.linear_model import LogisticRegression\n",
        "\n",
        "#Classification algorithms are machine learning algrotihtms used to predict categorical variables\n",
        "#using features\n",
        "\n",
        "#logistic regression is a classification function used to model the probability of a\n",
        "#binary response variable, using a logistic function\n",
        "\n",
        "#A logistic function is a mathematical function that produes a S-shaped curve\n"
      ]
    },
    {
      "cell_type": "code",
      "execution_count": null,
      "id": "1a410760",
      "metadata": {
        "id": "1a410760"
      },
      "outputs": [],
      "source": [
        "logistic_model = LogisticRegression()"
      ]
    },
    {
      "cell_type": "code",
      "execution_count": null,
      "id": "28c1de3b",
      "metadata": {
        "id": "28c1de3b",
        "outputId": "3b34be37-ab75-47a2-89a4-6007a49b9fce"
      },
      "outputs": [
        {
          "data": {
            "text/plain": [
              "LogisticRegression()"
            ]
          },
          "execution_count": 15,
          "metadata": {},
          "output_type": "execute_result"
        }
      ],
      "source": [
        "logistic_model.fit(scaled_X_train,y_train)"
      ]
    },
    {
      "cell_type": "code",
      "execution_count": null,
      "id": "d1871fee",
      "metadata": {
        "id": "d1871fee",
        "outputId": "4701b6ec-707a-4106-abdd-4323a24dd53b"
      },
      "outputs": [
        {
          "data": {
            "text/plain": [
              "array([[ 0.68106525,  1.03617078, -0.05234761,  1.35662753,  0.99394479,\n",
              "         0.84860567,  0.98287733,  0.1084321 , -0.41664547, -1.13515183,\n",
              "         0.91656002,  0.19125928,  0.19825184,  1.06676793,  0.49900783,\n",
              "         0.15719442]])"
            ]
          },
          "execution_count": 16,
          "metadata": {},
          "output_type": "execute_result"
        }
      ],
      "source": [
        "logistic_model.coef_"
      ]
    },
    {
      "cell_type": "markdown",
      "id": "5df36f1b",
      "metadata": {
        "id": "5df36f1b"
      },
      "source": [
        "# ii."
      ]
    },
    {
      "cell_type": "code",
      "execution_count": null,
      "id": "91cb0f16",
      "metadata": {
        "id": "91cb0f16"
      },
      "outputs": [],
      "source": [
        "import sklearn"
      ]
    },
    {
      "cell_type": "code",
      "execution_count": null,
      "id": "a339bad3",
      "metadata": {
        "id": "a339bad3",
        "outputId": "0b908fe5-4868-4726-92ce-a984dc8f07f9"
      },
      "outputs": [
        {
          "data": {
            "text/plain": [
              "array(['Siit_Pistachio', 'Siit_Pistachio', 'Kirmizi_Pistachio',\n",
              "       'Siit_Pistachio', 'Kirmizi_Pistachio', 'Siit_Pistachio',\n",
              "       'Kirmizi_Pistachio', 'Kirmizi_Pistachio', 'Kirmizi_Pistachio',\n",
              "       'Kirmizi_Pistachio', 'Kirmizi_Pistachio', 'Siit_Pistachio',\n",
              "       'Siit_Pistachio', 'Siit_Pistachio', 'Siit_Pistachio',\n",
              "       'Kirmizi_Pistachio', 'Siit_Pistachio', 'Kirmizi_Pistachio',\n",
              "       'Kirmizi_Pistachio', 'Siit_Pistachio', 'Siit_Pistachio',\n",
              "       'Siit_Pistachio', 'Siit_Pistachio', 'Siit_Pistachio',\n",
              "       'Kirmizi_Pistachio', 'Siit_Pistachio', 'Kirmizi_Pistachio',\n",
              "       'Siit_Pistachio', 'Siit_Pistachio', 'Kirmizi_Pistachio',\n",
              "       'Siit_Pistachio', 'Kirmizi_Pistachio', 'Kirmizi_Pistachio',\n",
              "       'Kirmizi_Pistachio', 'Kirmizi_Pistachio', 'Siit_Pistachio',\n",
              "       'Kirmizi_Pistachio', 'Kirmizi_Pistachio', 'Kirmizi_Pistachio',\n",
              "       'Kirmizi_Pistachio', 'Kirmizi_Pistachio', 'Siit_Pistachio',\n",
              "       'Siit_Pistachio', 'Siit_Pistachio', 'Siit_Pistachio',\n",
              "       'Kirmizi_Pistachio', 'Kirmizi_Pistachio', 'Kirmizi_Pistachio',\n",
              "       'Kirmizi_Pistachio', 'Kirmizi_Pistachio', 'Siit_Pistachio',\n",
              "       'Siit_Pistachio', 'Kirmizi_Pistachio', 'Siit_Pistachio',\n",
              "       'Kirmizi_Pistachio', 'Kirmizi_Pistachio', 'Siit_Pistachio',\n",
              "       'Siit_Pistachio', 'Siit_Pistachio', 'Kirmizi_Pistachio',\n",
              "       'Siit_Pistachio', 'Siit_Pistachio', 'Kirmizi_Pistachio',\n",
              "       'Kirmizi_Pistachio', 'Siit_Pistachio', 'Kirmizi_Pistachio',\n",
              "       'Kirmizi_Pistachio', 'Kirmizi_Pistachio', 'Siit_Pistachio',\n",
              "       'Kirmizi_Pistachio', 'Kirmizi_Pistachio', 'Kirmizi_Pistachio',\n",
              "       'Kirmizi_Pistachio', 'Kirmizi_Pistachio', 'Kirmizi_Pistachio',\n",
              "       'Kirmizi_Pistachio', 'Kirmizi_Pistachio', 'Siit_Pistachio',\n",
              "       'Kirmizi_Pistachio', 'Siit_Pistachio', 'Kirmizi_Pistachio',\n",
              "       'Kirmizi_Pistachio', 'Kirmizi_Pistachio', 'Siit_Pistachio',\n",
              "       'Kirmizi_Pistachio', 'Kirmizi_Pistachio', 'Kirmizi_Pistachio',\n",
              "       'Siit_Pistachio', 'Kirmizi_Pistachio', 'Siit_Pistachio',\n",
              "       'Kirmizi_Pistachio', 'Kirmizi_Pistachio', 'Kirmizi_Pistachio',\n",
              "       'Siit_Pistachio', 'Siit_Pistachio', 'Kirmizi_Pistachio',\n",
              "       'Siit_Pistachio', 'Kirmizi_Pistachio', 'Siit_Pistachio',\n",
              "       'Siit_Pistachio', 'Siit_Pistachio', 'Siit_Pistachio',\n",
              "       'Siit_Pistachio', 'Kirmizi_Pistachio', 'Kirmizi_Pistachio',\n",
              "       'Kirmizi_Pistachio', 'Siit_Pistachio', 'Siit_Pistachio',\n",
              "       'Siit_Pistachio', 'Kirmizi_Pistachio', 'Siit_Pistachio',\n",
              "       'Kirmizi_Pistachio', 'Kirmizi_Pistachio', 'Siit_Pistachio',\n",
              "       'Kirmizi_Pistachio', 'Kirmizi_Pistachio', 'Kirmizi_Pistachio',\n",
              "       'Siit_Pistachio', 'Siit_Pistachio', 'Siit_Pistachio',\n",
              "       'Kirmizi_Pistachio', 'Siit_Pistachio', 'Kirmizi_Pistachio',\n",
              "       'Siit_Pistachio', 'Siit_Pistachio', 'Kirmizi_Pistachio',\n",
              "       'Siit_Pistachio', 'Kirmizi_Pistachio', 'Kirmizi_Pistachio',\n",
              "       'Kirmizi_Pistachio', 'Kirmizi_Pistachio', 'Kirmizi_Pistachio',\n",
              "       'Kirmizi_Pistachio', 'Kirmizi_Pistachio', 'Kirmizi_Pistachio',\n",
              "       'Kirmizi_Pistachio', 'Siit_Pistachio', 'Siit_Pistachio',\n",
              "       'Kirmizi_Pistachio', 'Siit_Pistachio', 'Siit_Pistachio',\n",
              "       'Kirmizi_Pistachio', 'Siit_Pistachio', 'Kirmizi_Pistachio',\n",
              "       'Kirmizi_Pistachio', 'Siit_Pistachio', 'Kirmizi_Pistachio',\n",
              "       'Siit_Pistachio', 'Kirmizi_Pistachio', 'Kirmizi_Pistachio',\n",
              "       'Siit_Pistachio', 'Kirmizi_Pistachio', 'Siit_Pistachio',\n",
              "       'Kirmizi_Pistachio', 'Siit_Pistachio', 'Kirmizi_Pistachio',\n",
              "       'Siit_Pistachio', 'Siit_Pistachio', 'Kirmizi_Pistachio',\n",
              "       'Kirmizi_Pistachio', 'Siit_Pistachio', 'Kirmizi_Pistachio',\n",
              "       'Siit_Pistachio', 'Kirmizi_Pistachio', 'Kirmizi_Pistachio',\n",
              "       'Siit_Pistachio', 'Siit_Pistachio', 'Siit_Pistachio',\n",
              "       'Kirmizi_Pistachio', 'Kirmizi_Pistachio', 'Kirmizi_Pistachio',\n",
              "       'Kirmizi_Pistachio', 'Kirmizi_Pistachio', 'Siit_Pistachio',\n",
              "       'Siit_Pistachio', 'Siit_Pistachio', 'Kirmizi_Pistachio',\n",
              "       'Kirmizi_Pistachio', 'Kirmizi_Pistachio', 'Kirmizi_Pistachio',\n",
              "       'Kirmizi_Pistachio', 'Siit_Pistachio', 'Kirmizi_Pistachio',\n",
              "       'Siit_Pistachio', 'Kirmizi_Pistachio', 'Siit_Pistachio',\n",
              "       'Siit_Pistachio', 'Kirmizi_Pistachio', 'Siit_Pistachio',\n",
              "       'Kirmizi_Pistachio', 'Siit_Pistachio', 'Siit_Pistachio',\n",
              "       'Siit_Pistachio', 'Siit_Pistachio', 'Siit_Pistachio',\n",
              "       'Siit_Pistachio', 'Kirmizi_Pistachio', 'Kirmizi_Pistachio',\n",
              "       'Kirmizi_Pistachio', 'Kirmizi_Pistachio', 'Kirmizi_Pistachio',\n",
              "       'Siit_Pistachio', 'Kirmizi_Pistachio', 'Kirmizi_Pistachio',\n",
              "       'Siit_Pistachio', 'Kirmizi_Pistachio', 'Siit_Pistachio',\n",
              "       'Siit_Pistachio', 'Siit_Pistachio', 'Kirmizi_Pistachio',\n",
              "       'Kirmizi_Pistachio', 'Kirmizi_Pistachio', 'Kirmizi_Pistachio',\n",
              "       'Siit_Pistachio', 'Kirmizi_Pistachio'], dtype=object)"
            ]
          },
          "execution_count": 18,
          "metadata": {},
          "output_type": "execute_result"
        }
      ],
      "source": [
        "y_pred = logistic_model.predict(scaled_X_test)\n",
        "y_pred\n",
        "\n",
        "# Using the logistic model created I predict the category of the scaled test data\n",
        "# using predict() function from the scikit-learn library\n"
      ]
    },
    {
      "cell_type": "code",
      "execution_count": null,
      "id": "76a94d71",
      "metadata": {
        "id": "76a94d71"
      },
      "outputs": [],
      "source": [
        "#Peformance evaluation\n",
        "from sklearn.metrics import accuracy_score\n",
        "from sklearn.metrics import precision_score\n",
        "from sklearn.metrics import confusion_matrix"
      ]
    },
    {
      "cell_type": "code",
      "execution_count": null,
      "id": "55b42788",
      "metadata": {
        "id": "55b42788",
        "outputId": "1e229e97-8341-4617-b368-e5abdcde021a"
      },
      "outputs": [
        {
          "data": {
            "text/plain": [
              "0.8790697674418605"
            ]
          },
          "execution_count": 20,
          "metadata": {},
          "output_type": "execute_result"
        }
      ],
      "source": [
        "#Peformance evaluation - accuracy\n",
        "accuracy = accuracy_score(y_test,y_pred)\n",
        "accuracy\n",
        "\n",
        "#the accuracy metric represents the percentage value\n",
        "#that the model correctly predicted a target variable in a test set"
      ]
    },
    {
      "cell_type": "code",
      "execution_count": null,
      "id": "1dc5e2d8",
      "metadata": {
        "id": "1dc5e2d8",
        "outputId": "c3acc187-dc6d-4558-ea21-492d2a8cd2e4"
      },
      "outputs": [
        {
          "data": {
            "text/plain": [
              "0.8526315789473684"
            ]
          },
          "execution_count": 21,
          "metadata": {},
          "output_type": "execute_result"
        }
      ],
      "source": [
        "#Peformance evaluation - precision\n",
        "precision = precision_score(y_test, y_pred, pos_label='Siit_Pistachio' )\n",
        "precision\n",
        "#the accuracy metric represents the percentage value\n",
        "#that the model correctly predicted positives(1 or Siit_Pistachio)\n",
        "#so how many predicted positives out of true positives"
      ]
    },
    {
      "cell_type": "code",
      "execution_count": null,
      "id": "b6299de9",
      "metadata": {
        "id": "b6299de9"
      },
      "outputs": [],
      "source": [
        "#a scalar value is a single numerical value that represents an amount\n",
        "\n",
        "#both accuracy and precision use a scalar value of 0 to 1\n",
        "#(no accuracy/precision to perfect accuracy/precision)"
      ]
    },
    {
      "cell_type": "code",
      "execution_count": null,
      "id": "1dde553c",
      "metadata": {
        "id": "1dde553c"
      },
      "outputs": [],
      "source": [
        "#Peformance evaluation - confusion matrix\n",
        "model_confusion_matrix = confusion_matrix(y_test,y_pred)\n",
        "\n",
        "#True postives = correctly predicted positive\n",
        "#False postive = falsely predicted positive\n",
        "#True negative = correctly predicted negative\n",
        "#False negative = falsely predicted negative\n",
        "\n",
        "#The first array in the multidimensional array\n",
        "#represents the number of True positives, False postives\n",
        "\n",
        "#The second array in the multidimensional array\n",
        "#represents the number of False negatives, True negatives"
      ]
    },
    {
      "cell_type": "code",
      "execution_count": null,
      "id": "f88e8492",
      "metadata": {
        "id": "f88e8492",
        "outputId": "6882a32d-083a-4b80-b7c7-ad95fb455daf"
      },
      "outputs": [
        {
          "data": {
            "text/plain": [
              "array([[108,  14],\n",
              "       [ 12,  81]], dtype=int64)"
            ]
          },
          "execution_count": 24,
          "metadata": {},
          "output_type": "execute_result"
        }
      ],
      "source": [
        "model_confusion_matrix"
      ]
    },
    {
      "cell_type": "markdown",
      "id": "e0bfb9ef",
      "metadata": {
        "id": "e0bfb9ef"
      },
      "source": [
        "##### Accuracy, precision, and confusion matrix are all effect model evalution metrics\n",
        "##### because they show the accuracy, precision, and results of a models predictions\n",
        "##### which is the purpose of prediction based Machine learning models"
      ]
    },
    {
      "cell_type": "markdown",
      "id": "7352cd7e",
      "metadata": {
        "id": "7352cd7e"
      },
      "source": [
        "# iii."
      ]
    },
    {
      "cell_type": "code",
      "execution_count": null,
      "id": "b19533b4",
      "metadata": {
        "id": "b19533b4"
      },
      "outputs": [],
      "source": [
        "\n",
        "from sklearn.metrics import ConfusionMatrixDisplay"
      ]
    },
    {
      "cell_type": "code",
      "execution_count": null,
      "id": "e9f4b103",
      "metadata": {
        "id": "e9f4b103",
        "outputId": "f2a4d92e-12ae-41b7-afbc-f5956bf2fb00"
      },
      "outputs": [
        {
          "data": {
            "image/png": "[encoded data removed]",
            "text/plain": [
              "<Figure size 432x288 with 2 Axes>"
            ]
          },
          "metadata": {
            "needs_background": "light"
          },
          "output_type": "display_data"
        }
      ],
      "source": [
        "performance_visualisation = ConfusionMatrixDisplay(confusion_matrix=model_confusion_matrix,\n",
        "display_labels=logistic_model.classes_)\n",
        "performance_visualisation.plot()\n",
        "plt.show()"
      ]
    },
    {
      "cell_type": "code",
      "execution_count": null,
      "id": "7bb43b20",
      "metadata": {
        "id": "7bb43b20",
        "outputId": "7e1a6343-313e-4737-bc97-ebfa38efc0ba"
      },
      "outputs": [
        {
          "data": {
            "text/plain": [
              "<AxesSubplot:xlabel='Class', ylabel='MINOR_AXIS'>"
            ]
          },
          "execution_count": 27,
          "metadata": {},
          "output_type": "execute_result"
        },
        {
          "data": {
            "image/png": "[encoded data removed]",
            "text/plain": [
              "<Figure size 432x288 with 1 Axes>"
            ]
          },
          "metadata": {
            "needs_background": "light"
          },
          "output_type": "display_data"
        }
      ],
      "source": [
        "sns.boxplot(x='Class',y='MINOR_AXIS',data=df)"
      ]
    },
    {
      "cell_type": "code",
      "execution_count": null,
      "id": "8966334a",
      "metadata": {
        "id": "8966334a",
        "outputId": "69985fd6-4c99-41db-e510-caff9a0f21dd"
      },
      "outputs": [
        {
          "data": {
            "text/plain": [
              "<AxesSubplot:xlabel='AREA', ylabel='Class'>"
            ]
          },
          "execution_count": 28,
          "metadata": {},
          "output_type": "execute_result"
        },
        {
          "data": {
            "image/png": "[encoded data removed]",
            "text/plain": [
              "<Figure size 432x288 with 1 Axes>"
            ]
          },
          "metadata": {
            "needs_background": "light"
          },
          "output_type": "display_data"
        }
      ],
      "source": [
        "sns.scatterplot(data=df, x='AREA', y='Class', hue='Class')\n",
        "\n",
        "# A scatterplot can show the correlation between variables and a category"
      ]
    },
    {
      "cell_type": "code",
      "execution_count": null,
      "id": "5c938236",
      "metadata": {
        "id": "5c938236",
        "outputId": "0703e5b5-5c74-437e-cc53-5a4b89326919"
      },
      "outputs": [
        {
          "data": {
            "text/plain": [
              "<AxesSubplot:xlabel='ROUNDNESS', ylabel='COMPACTNESS'>"
            ]
          },
          "execution_count": 29,
          "metadata": {},
          "output_type": "execute_result"
        },
        {
          "data": {
            "image/png": "[encoded data removed]",
            "text/plain": [
              "<Figure size 432x288 with 1 Axes>"
            ]
          },
          "metadata": {
            "needs_background": "light"
          },
          "output_type": "display_data"
        }
      ],
      "source": [
        "sns.scatterplot(data=df, x='ROUNDNESS', y='COMPACTNESS', hue='Class')\n",
        "\n",
        "# A scatterplot can also show the relationship between two numerical variables\n",
        "# whilst determining the category of the values displayed"
      ]
    },
    {
      "cell_type": "code",
      "execution_count": null,
      "id": "d04ec684",
      "metadata": {
        "id": "d04ec684",
        "outputId": "2ea62bce-d2e8-4796-b103-fd76224fcdf0"
      },
      "outputs": [
        {
          "data": {
            "text/plain": [
              "<AxesSubplot:xlabel='Class', ylabel='count'>"
            ]
          },
          "execution_count": 30,
          "metadata": {},
          "output_type": "execute_result"
        },
        {
          "data": {
            "image/png": "[encoded data removed]",
            "text/plain": [
              "<Figure size 432x288 with 1 Axes>"
            ]
          },
          "metadata": {
            "needs_background": "light"
          },
          "output_type": "display_data"
        }
      ],
      "source": [
        "sns.countplot(data=df, x='Class')\n",
        "\n",
        "# A countplot can count the amount of particular variables"
      ]
    },
    {
      "cell_type": "markdown",
      "id": "9b091ee6",
      "metadata": {
        "id": "9b091ee6"
      },
      "source": [
        "##### With Machine Learning in Python using the sklearn library and the seaborn library you can visualise the peformance of the model.\n",
        "\n",
        "##### The ConfusionMatrixDisplay shows that model has an 88% success rate for predictions(189 out of 215) correct\n",
        "\n",
        "##### The box plot shows that there is a strong correlation between having a high minor axis and the nut being a Siit_Pistachio\n",
        "\n",
        "##### The first scatterplot shows that the widest nuts never were Kirmizi_Pistachio\n",
        "\n",
        "##### The second scatterplot shows that the most round AND compact nuts were were Siit_Pistachio\n",
        "\n",
        "##### The countplot shows that the majority of the nuts were Kirmizi_Pistachio"
      ]
    },
    {
      "cell_type": "markdown",
      "id": "066d569d",
      "metadata": {
        "id": "066d569d"
      },
      "source": [
        "# In conclusion this Logistic Regression Model is effective at predicting what type a new nut is"
      ]
    },
    {
      "cell_type": "code",
      "execution_count": null,
      "id": "c02951b7",
      "metadata": {
        "id": "c02951b7"
      },
      "outputs": [],
      "source": []
    }
  ],
  "metadata": {
    "kernelspec": {
      "display_name": "Python 3 (ipykernel)",
      "language": "python",
      "name": "python3"
    },
    "language_info": {
      "codemirror_mode": {
        "name": "ipython",
        "version": 3
      },
      "file_extension": ".py",
      "mimetype": "text/x-python",
      "name": "python",
      "nbconvert_exporter": "python",
      "pygments_lexer": "ipython3",
      "version": "3.9.7"
    },
    "colab": {
      "provenance": []
    }
  },
  "nbformat": 4,
  "nbformat_minor": 5
}